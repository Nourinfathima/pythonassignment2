{
 "cells": [
  {
   "cell_type": "markdown",
   "metadata": {},
   "source": [
    "Exercise1\n",
    "Calculate two integer numbers return their product only if the product is equal to or lower than 1000 else return their sum"
   ]
  },
  {
   "cell_type": "code",
   "execution_count": 25,
   "metadata": {},
   "outputs": [
    {
     "name": "stdout",
     "output_type": "stream",
     "text": [
      "the result is:  25\n"
     ]
    }
   ],
   "source": [
    "a =input(\"enter first number:\")\n",
    "b =input(\"enter second number:\")\n",
    "sum =int(a) + int(b)\n",
    "product = int(a) * int(b)\n",
    "if product <= 1000 :\n",
    "   print(\"the result is: \",product)\n",
    "else:\n",
    "   print(\"the result is: \",sum)"
   ]
  },
  {
   "cell_type": "markdown",
   "metadata": {},
   "source": [
    "Exercise5"
   ]
  },
  {
   "cell_type": "markdown",
   "metadata": {},
   "source": [
    "Write a function to return true if the first and last number of given list is same.if numbers aredifferent then return false\n",
    "given\n",
    "numbers_x=['10','20','30','40','10']\n",
    "numbers_y=['75','65','35','75','30']"
   ]
  },
  {
   "cell_type": "code",
   "execution_count": 37,
   "metadata": {},
   "outputs": [
    {
     "name": "stdout",
     "output_type": "stream",
     "text": [
      "Given list :  ['23', '45', '36', '12', '23']\n",
      "Result is true\n",
      "Given list :  ['75', '65', '35', '75', '30']\n",
      "Result is false\n"
     ]
    }
   ],
   "source": [
    "\n",
    "\n",
    "\n",
    "numbers_x=['10','20','30','40','10']\n",
    "numbers_y=['75','65','35','75','30']\n",
    "print(\"Given list : \",numbers_x)\n",
    "\n",
    "if numbers_x[0] == numbers_x[-1] :\n",
    "    print(\"Result is true\")\n",
    "else:\n",
    "        print(\"Result is false\")\n",
    "print(\"Given list : \",numbers_y)\n",
    "if numbers_y[0] == numbers_y[-1] :\n",
    "         print(\"Result is true\")\n",
    "else:\n",
    "     print(\"Result is false\")"
   ]
  },
  {
   "cell_type": "markdown",
   "metadata": {},
   "source": [
    "Write a program to find how many times substring \" Emma\" appears in the given string"
   ]
  },
  {
   "cell_type": "code",
   "execution_count": 30,
   "metadata": {},
   "outputs": [
    {
     "name": "stdout",
     "output_type": "stream",
     "text": [
      "emma appeared 2 times\n"
     ]
    }
   ],
   "source": [
    "string_x ='emma is a good developer .emma is a writer '\n",
    "print ('emma appeared',string_x.count('emma'), 'times')"
   ]
  },
  {
   "cell_type": "markdown",
   "metadata": {},
   "source": [
    "print the following pattern\n",
    "1\n",
    "2 2\n",
    "3 3 3\n",
    "4 4 4 4\n",
    "5 5 5 5 5"
   ]
  },
  {
   "cell_type": "code",
   "execution_count": 39,
   "metadata": {},
   "outputs": [
    {
     "name": "stdout",
     "output_type": "stream",
     "text": [
      "\n",
      "1 \n",
      "2 2 \n",
      "3 3 3 \n",
      "4 4 4 4 \n",
      "5 5 5 5 5 \n"
     ]
    }
   ],
   "source": [
    "n=5\n",
    "for i in range (n+1):\n",
    "    for j in range(1, i+1):\n",
    "        print( i, end=' ')\n",
    "    print()\n"
   ]
  },
  {
   "cell_type": "markdown",
   "metadata": {},
   "source": [
    "display the number divisible by 5 from a list\n",
    "[10,20,33,46,55]"
   ]
  },
  {
   "cell_type": "code",
   "execution_count": 41,
   "metadata": {},
   "outputs": [
    {
     "name": "stdout",
     "output_type": "stream",
     "text": [
      "given list is ['10', '20', '33', '46', 55]\n",
      "10\n",
      "20\n",
      "55\n"
     ]
    }
   ],
   "source": [
    "num = ['10','20','33','46',55]\n",
    "print (\"given list is\" ,num)\n",
    "for i in num:\n",
    "    if (int(i) % 5) ==0:\n",
    "        print(i)\n",
    "\n"
   ]
  },
  {
   "cell_type": "markdown",
   "metadata": {},
   "source": [
    "create a new list from a two list using the following condition\n",
    "list1 =[10,20,25,30,35]\n",
    "list2 =[40,45,60,75,90]\n"
   ]
  },
  {
   "cell_type": "code",
   "execution_count": 42,
   "metadata": {},
   "outputs": [
    {
     "name": "stdout",
     "output_type": "stream",
     "text": [
      "the result is\n",
      "['20', '30', '45', '75']\n"
     ]
    }
   ],
   "source": [
    "list1 =['10','20','25','30','35']\n",
    "list2 =['40','45','60','75','90']\n",
    "print(\"the result is\")\n",
    "result1 = [list1[i] for i in range(len(list1)) if i % 2 != 0]\n",
    "result2 = [list2[i] for i in range(len(list1)) if i % 2 != 0]\n",
    "res = result1 + result2\n",
    "print(res)\n"
   ]
  }
 ],
 "metadata": {
  "kernelspec": {
   "display_name": "Python 3.10.7 64-bit (microsoft store)",
   "language": "python",
   "name": "python3"
  },
  "language_info": {
   "codemirror_mode": {
    "name": "ipython",
    "version": 3
   },
   "file_extension": ".py",
   "mimetype": "text/x-python",
   "name": "python",
   "nbconvert_exporter": "python",
   "pygments_lexer": "ipython3",
   "version": "3.10.7"
  },
  "orig_nbformat": 4,
  "vscode": {
   "interpreter": {
    "hash": "eb27ebc11b61f5d73d518ed40ecb8d787c96f0c6eac54653c8bb5bdbd45220cb"
   }
  }
 },
 "nbformat": 4,
 "nbformat_minor": 2
}
